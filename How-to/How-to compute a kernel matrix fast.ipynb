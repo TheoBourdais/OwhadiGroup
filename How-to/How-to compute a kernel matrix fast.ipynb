{
 "cells": [
  {
   "cell_type": "code",
   "execution_count": 1,
   "metadata": {},
   "outputs": [],
   "source": [
    "import numpy as np"
   ]
  },
  {
   "attachments": {},
   "cell_type": "markdown",
   "metadata": {},
   "source": [
    "# Don't do this"
   ]
  },
  {
   "cell_type": "code",
   "execution_count": 8,
   "metadata": {},
   "outputs": [
    {
     "data": {
      "text/plain": [
       "array([[1.00000000e+00, 5.04569016e-04, 2.86500480e-04, 3.50669936e-04],\n",
       "       [5.04569016e-04, 1.00000000e+00, 6.83364181e-05, 3.43363500e-04],\n",
       "       [2.86500480e-04, 6.83364181e-05, 1.00000000e+00, 2.10852355e-04],\n",
       "       [3.50669936e-04, 3.43363500e-04, 2.10852355e-04, 1.00000000e+00]])"
      ]
     },
     "execution_count": 8,
     "metadata": {},
     "output_type": "execute_result"
    }
   ],
   "source": [
    "N=int(1e6)\n",
    "X=np.random.rand(N,100)\n",
    "res=np.zeros((N,N))\n",
    "for i in range(N):\n",
    "    for j in range(N):\n",
    "        res[i,j]=np.exp(-np.linalg.norm(X[i]-X[j])**2/2)\n",
    "res[:4,:4]"
   ]
  },
  {
   "cell_type": "code",
   "execution_count": null,
   "metadata": {},
   "outputs": [],
   "source": []
  }
 ],
 "metadata": {
  "kernelspec": {
   "display_name": "Python 3",
   "language": "python",
   "name": "python3"
  },
  "language_info": {
   "codemirror_mode": {
    "name": "ipython",
    "version": 3
   },
   "file_extension": ".py",
   "mimetype": "text/x-python",
   "name": "python",
   "nbconvert_exporter": "python",
   "pygments_lexer": "ipython3",
   "version": "3.10.7"
  },
  "orig_nbformat": 4
 },
 "nbformat": 4,
 "nbformat_minor": 2
}
