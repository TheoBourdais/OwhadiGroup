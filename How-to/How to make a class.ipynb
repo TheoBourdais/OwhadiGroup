{
 "cells": [
  {
   "cell_type": "code",
   "execution_count": 85,
   "metadata": {},
   "outputs": [],
   "source": [
    "import numpy as np"
   ]
  },
  {
   "attachments": {},
   "cell_type": "markdown",
   "metadata": {},
   "source": [
    "# Tip 1 : Use properties\n",
    "\n",
    "Properties are useful for:\n",
    "- Making a function that behaves like an attribute\n",
    "- Creating read-only attributes for instance\n",
    "- Complex logic for when modifying attributes"
   ]
  },
  {
   "cell_type": "code",
   "execution_count": 86,
   "metadata": {},
   "outputs": [],
   "source": [
    "class LinearRegression():\n",
    "    def __init__(self,X,Y,gamma) -> None:\n",
    "        self.X=X\n",
    "        self.K=X.T@X+gamma*np.eye(X.shape[1])\n",
    "        self.Y=Y\n",
    "        self._gamma=gamma\n",
    "    \n",
    "    @property\n",
    "    def n_samples(self):\n",
    "        return self.X.shape[0]\n",
    "    \n",
    "    @property\n",
    "    def K_inv(self):\n",
    "        try:\n",
    "            return self._kmat_inv\n",
    "        except AttributeError:\n",
    "            self._kmat_inv=np.linalg.inv(self.K)\n",
    "            return self._kmat_inv\n",
    "    \n",
    "    @K_inv.deleter\n",
    "    def K_inv(self):\n",
    "        try:\n",
    "            del self._kmat_inv\n",
    "        except AttributeError:\n",
    "            pass\n",
    "    \n",
    "    @property\n",
    "    def gamma(self):\n",
    "        return self._gamma\n",
    "    \n",
    "    @gamma.setter\n",
    "    def gamma(self,new_gamma):\n",
    "        self._gamma=new_gamma\n",
    "        self.K=self.X.T@self.X+new_gamma*np.eye(self.X.shape[1])\n",
    "        del self.K_inv\n",
    "\n",
    "\n"
   ]
  },
  {
   "attachments": {},
   "cell_type": "markdown",
   "metadata": {},
   "source": [
    "We can see here that properties beave like attributes, but the setter and deleter function work under the hood each time"
   ]
  },
  {
   "cell_type": "code",
   "execution_count": 87,
   "metadata": {},
   "outputs": [
    {
     "data": {
      "text/plain": [
       "1000"
      ]
     },
     "execution_count": 87,
     "metadata": {},
     "output_type": "execute_result"
    }
   ],
   "source": [
    "LR=LinearRegression(np.random.rand(1000,10),np.random.rand(1000),1e-2)\n",
    "LR.n_samples"
   ]
  },
  {
   "cell_type": "code",
   "execution_count": 88,
   "metadata": {},
   "outputs": [
    {
     "data": {
      "text/plain": [
       "0.010834957098308708"
      ]
     },
     "execution_count": 88,
     "metadata": {},
     "output_type": "execute_result"
    }
   ],
   "source": [
    "LR.gamma=1e-15\n",
    "LR.K_inv[0,0]"
   ]
  },
  {
   "cell_type": "code",
   "execution_count": 89,
   "metadata": {},
   "outputs": [
    {
     "data": {
      "text/plain": [
       "0.004931861931886988"
      ]
     },
     "execution_count": 89,
     "metadata": {},
     "output_type": "execute_result"
    }
   ],
   "source": [
    "LR.gamma=100\n",
    "LR.K_inv[0,0]"
   ]
  },
  {
   "attachments": {},
   "cell_type": "markdown",
   "metadata": {},
   "source": [
    "# Tip 2: Define the standard functions"
   ]
  },
  {
   "cell_type": "code",
   "execution_count": 90,
   "metadata": {},
   "outputs": [],
   "source": [
    "class LinearRegression2(LinearRegression):\n",
    "    def __init__(self,X,Y,gamma):\n",
    "        super().__init__(X,Y,gamma)\n",
    "    \n",
    "    def __call__(self,x):\n",
    "        return np.dot(x,self.K_inv@self.X.T@self.Y)\n",
    "    \n",
    "    def __getitem__(self, index):\n",
    "         return self.X[index],self.Y[index]\n",
    "    \n",
    "    def __repr__(self) -> str:\n",
    "        return f'Linear Regression beta=(XX^T+{self.gamma}I)^-1X^TY\\n ............. \\n X: {self.X[:5,:5]}\\n .......... \\nY: {self.Y[:5]}\\n ..............'\n"
   ]
  },
  {
   "cell_type": "code",
   "execution_count": 91,
   "metadata": {},
   "outputs": [],
   "source": [
    "LR2=LinearRegression2(np.random.rand(1000,10),np.random.rand(1000),1e-2)\n"
   ]
  },
  {
   "attachments": {},
   "cell_type": "markdown",
   "metadata": {},
   "source": [
    "now LR2 is callable, subscriptable and printable"
   ]
  },
  {
   "cell_type": "code",
   "execution_count": 92,
   "metadata": {},
   "outputs": [
    {
     "data": {
      "text/plain": [
       "Linear Regression beta=(XX^T+0.01I)^-1X^TY\n",
       " ............. \n",
       " X: [[0.26037574 0.3660719  0.13765819 0.228732   0.80595702]\n",
       " [0.57899256 0.37048779 0.14695577 0.06121121 0.63418116]\n",
       " [0.34062847 0.1514688  0.28753236 0.99152543 0.75056508]\n",
       " [0.50496055 0.22269646 0.48742886 0.18461113 0.30684443]\n",
       " [0.02747696 0.89395913 0.74568669 0.48736657 0.10545178]]\n",
       " .......... \n",
       "Y: [0.10912121 0.91579218 0.60959553 0.00539335 0.60413215]\n",
       " .............."
      ]
     },
     "execution_count": 92,
     "metadata": {},
     "output_type": "execute_result"
    }
   ],
   "source": [
    "LR2"
   ]
  },
  {
   "cell_type": "code",
   "execution_count": 93,
   "metadata": {},
   "outputs": [
    {
     "data": {
      "text/plain": [
       "0.3269153116700467"
      ]
     },
     "execution_count": 93,
     "metadata": {},
     "output_type": "execute_result"
    }
   ],
   "source": [
    "X_10,Y_10=LR2[10]\n",
    "abs(Y_10-LR2(X_10))"
   ]
  }
 ],
 "metadata": {
  "kernelspec": {
   "display_name": "Python 3",
   "language": "python",
   "name": "python3"
  },
  "language_info": {
   "codemirror_mode": {
    "name": "ipython",
    "version": 3
   },
   "file_extension": ".py",
   "mimetype": "text/x-python",
   "name": "python",
   "nbconvert_exporter": "python",
   "pygments_lexer": "ipython3",
   "version": "3.10.7"
  },
  "orig_nbformat": 4
 },
 "nbformat": 4,
 "nbformat_minor": 2
}
